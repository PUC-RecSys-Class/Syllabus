{
 "cells": [
  {
   "cell_type": "markdown",
   "metadata": {
    "colab_type": "text",
    "id": "Ug0ZdoCQ8v_-"
   },
   "source": [
    "# Ayudantía 3 - Sistemas Recomendadores: Pyreclab"
   ]
  },
  {
   "cell_type": "markdown",
   "metadata": {
    "colab_type": "text",
    "id": "8VO7sT3xSI9G"
   },
   "source": [
    "**Nombre alumno(s):**"
   ]
  },
  {
   "cell_type": "markdown",
   "metadata": {
    "colab_type": "text",
    "id": "QYb_yqvJ9Azs"
   },
   "source": [
    "## Setup"
   ]
  },
  {
   "cell_type": "markdown",
   "metadata": {
    "colab_type": "text",
    "id": "uDf4Fq2sVXoe"
   },
   "source": [
    "**Paso 1:** Descarga de archivos:\n",
    "\n",
    "*   `dictionary.p`\n",
    "*   `dictionary-stemm.p`\n",
    "*  `tfidf_model.p`\n",
    "*  `tfidf_model-stemm.p`"
   ]
  },
  {
   "cell_type": "code",
   "execution_count": null,
   "metadata": {
    "colab": {},
    "colab_type": "code",
    "id": "nAU2KqtbO-H0"
   },
   "outputs": [],
   "source": [
    "# Descargue los archivos ejecutando este comando\n",
    "!curl -L -o 'resources.tar.gz' 'https://github.com/PUC-RecSys-Class/Syllabus/blob/master/Practico%203/files/resources.tar.gz'\n",
    "\n",
    "\n",
    "# Descomprima el archivo\n",
    "!tar -xvf resources.tar.gz"
   ]
  },
  {
   "cell_type": "markdown",
   "metadata": {
    "colab_type": "text",
    "id": "LdcX_Hv8VtMC"
   },
   "source": [
    "**Paso 1.5:** Descarga del dataset:"
   ]
  },
  {
   "cell_type": "code",
   "execution_count": null,
   "metadata": {
    "colab": {},
    "colab_type": "code",
    "id": "Oe-uwhdrQflY"
   },
   "outputs": [],
   "source": [
    "# Puede descargar el dataset ejecutando el siguiente comando\n",
    "!curl -L -o 'dataset.tar.gz' 'https://github.com/PUC-RecSys-Class/Syllabus/blob/master/Practico%203/files/dataset.tar.gz'\n",
    "\n",
    "# Y descomprimirlo con\n",
    "!tar -xvf dataset.tar.gz"
   ]
  },
  {
   "cell_type": "markdown",
   "metadata": {
    "colab_type": "text",
    "id": "C38vKnWX9CFM"
   },
   "source": [
    "**Paso 2:** Para este práctico es necesario instalar las siguentes dependencias:"
   ]
  },
  {
   "cell_type": "code",
   "execution_count": null,
   "metadata": {
    "colab": {},
    "colab_type": "code",
    "id": "qrQao0AE9ZgV"
   },
   "outputs": [],
   "source": [
    "!pip install nltk\n",
    "!pip install sklearn\n",
    "!pip install gensim\n",
    "!pip install pandas\n",
    "!pip install numpy"
   ]
  },
  {
   "cell_type": "code",
   "execution_count": null,
   "metadata": {
    "colab": {},
    "colab_type": "code",
    "id": "gj38t3yY9dMW"
   },
   "outputs": [],
   "source": [
    "import os\n",
    "import nltk\n",
    "import sklearn\n",
    "import gensim\n",
    "import string\n",
    "import pandas as pd\n",
    "import numpy as np\n",
    "from scipy.sparse import csr_matrix\n",
    "from collections import Counter\n",
    "from nltk.corpus import stopwords\n",
    "from nltk.stem.porter import PorterStemmer\n",
    "from gensim import corpora, models, similarities\n",
    "from sklearn.neighbors import NearestNeighbors"
   ]
  },
  {
   "cell_type": "markdown",
   "metadata": {
    "colab_type": "text",
    "id": "PUYnjZ1yOY-A"
   },
   "source": [
    "## Preprocesamiento de datos"
   ]
  },
  {
   "cell_type": "markdown",
   "metadata": {
    "colab_type": "text",
    "id": "me-LXrP2Ocjc"
   },
   "source": [
    "Lo primero es descargar las librerías de NLTK necesarias:"
   ]
  },
  {
   "cell_type": "code",
   "execution_count": null,
   "metadata": {
    "colab": {},
    "colab_type": "code",
    "id": "1Ru8N7mZ9exU"
   },
   "outputs": [],
   "source": [
    "# Download corpora\n",
    "nltk.download('punkt')"
   ]
  },
  {
   "cell_type": "markdown",
   "metadata": {
    "colab_type": "text",
    "id": "zUzN9tQTQf2k"
   },
   "source": [
    "Para comenzar cargaremos el set de datos en un *dataframe* de Pandas, e imprimimos los 5 primeros registros para visualizar la estructura de los datos."
   ]
  },
  {
   "cell_type": "code",
   "execution_count": null,
   "metadata": {
    "colab": {},
    "colab_type": "code",
    "id": "yk2PJqkW92Ha"
   },
   "outputs": [],
   "source": [
    "corpus_df = pd.read_csv('./corpus1.csv', sep='\\t',\n",
    "                        header=None, encoding='latin')\n",
    "corpus_df.columns = ['id', 'title', 'abstract']\n",
    "corpus_df = corpus_df[['id', 'title', 'abstract']]\n",
    "corpus_df[:5]"
   ]
  },
  {
   "cell_type": "markdown",
   "metadata": {
    "colab_type": "text",
    "id": "2c2NWVPnQmFU"
   },
   "source": [
    "Lo siguiente es implementar una función que transforme texto no estructurado a una lista de tokens procesados."
   ]
  },
  {
   "cell_type": "code",
   "execution_count": null,
   "metadata": {
    "colab": {},
    "colab_type": "code",
    "id": "PerFw5VF-kjf"
   },
   "outputs": [],
   "source": [
    "stemm = False\n",
    "stemmer = PorterStemmer()\n",
    "\n",
    "\n",
    "def get_tokens(text):\n",
    "    lowers = text.lower()\n",
    "    no_punctuation = lowers.translate(\n",
    "        {ord(c): None for c in string.punctuation})\n",
    "    tokens = nltk.word_tokenize(no_punctuation)\n",
    "    if stemm:\n",
    "        tokens = map(stemmer.stem, tokens)\n",
    "\n",
    "    return tokens\n",
    "\n",
    "\n",
    "get_tokens(\"I'm a super student for recommender systems!\")"
   ]
  },
  {
   "cell_type": "markdown",
   "metadata": {
    "colab_type": "text",
    "id": "3csGVr5GQwnR"
   },
   "source": [
    "**Pregunta:** Explique en sus palabras qué hace la función `get_tokens()`.\n",
    "\n",
    "**Respuesta:**\n",
    "\n"
   ]
  },
  {
   "cell_type": "markdown",
   "metadata": {
    "colab_type": "text",
    "id": "5BuNyD3zRUrP"
   },
   "source": [
    "Ahora se tiene que generar un diccionario con todas las palabras del *corpus*.\n",
    "\n",
    "Se recomienda revisar la documentación de gensim y leer cómo usar los diccionarios: [corpora.dictionary](https://radimrehurek.com/gensim/corpora/dictionary.html)"
   ]
  },
  {
   "cell_type": "code",
   "execution_count": null,
   "metadata": {
    "colab": {},
    "colab_type": "code",
    "id": "HRY9VYwk__HP"
   },
   "outputs": [],
   "source": [
    "dict_file = './resources/dictionary-stemm.p' if stemm else './resources/dictionary.p'\n",
    "if os.path.isfile(dict_file):\n",
    "    dictionary = corpora.dictionary.Dictionary().load(dict_file)\n",
    "else:\n",
    "    dictionary = corpora.dictionary.Dictionary(\n",
    "        documents=corpus_df.tokenised_abstract.tolist())\n",
    "    dictionary.save(dict_file)\n",
    "\n",
    "corpus_df['tokenized_abstract'] = corpus_df.abstract.map(get_tokens)\n",
    "corpus_df[:5]"
   ]
  },
  {
   "cell_type": "markdown",
   "metadata": {
    "colab_type": "text",
    "id": "BB7mwxklRxs_"
   },
   "source": [
    "**Pregunta:** Explique a qué corresponde la columna `tokenised_abstract` del dataframe.\n",
    "\n",
    "**Respuesta:**\n",
    "\n",
    "`\n",
    "\n"
   ]
  },
  {
   "cell_type": "code",
   "execution_count": null,
   "metadata": {
    "colab": {},
    "colab_type": "code",
    "id": "M6QriWJKAMZn"
   },
   "outputs": [],
   "source": [
    "corpus_df['bow'] = corpus_df.tokenized_abstract.map(dictionary.doc2bow)\n",
    "del corpus_df['tokenized_abstract']\n",
    "corpus = corpus_df['bow'].tolist()\n",
    "corpus_df[:5]"
   ]
  },
  {
   "cell_type": "markdown",
   "metadata": {
    "colab_type": "text",
    "id": "BtaBE7snSDMe"
   },
   "source": [
    "**Pregunta:** Explique a qué corresponde la columna `bow`\n",
    "\n",
    "**Respuesta:**\n"
   ]
  },
  {
   "cell_type": "markdown",
   "metadata": {
    "colab_type": "text",
    "id": "f23GriULTHgV"
   },
   "source": [
    "## Tf-idf"
   ]
  },
  {
   "cell_type": "code",
   "execution_count": null,
   "metadata": {
    "colab": {},
    "colab_type": "code",
    "id": "C7ju5n3xTKtj"
   },
   "outputs": [],
   "source": [
    "tfidf_model_file = 'resources/tfidf_model-stemm.p' if stemm else 'resources/tfidf_model.p'\n",
    "if os.path.isfile(tfidf_model_file):\n",
    "    tfidf_model = models.tfidfmodel.TfidfModel().load(tfidf_model_file)\n",
    "else:\n",
    "    tfidf_model = models.tfidfmodel.TfidfModel(corpus, dictionary=dictionary)\n",
    "    tfidf_model.save(tfidf_model_file)\n",
    "\n",
    "corpus_df['tf_idf'] = tfidf_model[corpus_df.bow.tolist()]\n",
    "corpus_df[:5]"
   ]
  },
  {
   "cell_type": "markdown",
   "metadata": {
    "colab_type": "text",
    "id": "O8F8BfFvTUz8"
   },
   "source": [
    "**Pregunta:** Explicar a qué corresponde la columna `tf_idf` y por qué es útil en el procesamiento de texto. Mencione sus 2 principales partes, mediante la explicación del puntaje.\n",
    "\n",
    "**Respuesta:**"
   ]
  },
  {
   "cell_type": "markdown",
   "metadata": {
    "colab_type": "text",
    "id": "EuNk3cw3SblR"
   },
   "source": [
    "## Generar recomendaciones"
   ]
  },
  {
   "cell_type": "markdown",
   "metadata": {
    "colab_type": "text",
    "id": "vHexXEF-SdH2"
   },
   "source": [
    "En esta sección se implementan las funciones necesarias para poder generar recomendaciones dado lo que un usuario ha consumido. De manera artificial, se samplearán 3 documentos aleatorios que representarán al usuario objetivo (`sample`). Luego tendrás que generar diferentes recomendaciones y evaluar los resultados."
   ]
  },
  {
   "cell_type": "code",
   "execution_count": null,
   "metadata": {
    "colab": {},
    "colab_type": "code",
    "id": "iwM9JHgpAwwu"
   },
   "outputs": [],
   "source": [
    "# Random user\n",
    "\n",
    "samples = corpus_df.sample(3)\n",
    "\n",
    "for n, (ix, paper) in enumerate(samples.iterrows()):\n",
    "    idx, title, abstract, bow, tf_idf = paper\n",
    "    print('%d) %s' % (n+1, title))\n",
    "    print('')\n",
    "    print(abstract)\n",
    "    print('\\n')"
   ]
  },
  {
   "cell_type": "code",
   "execution_count": null,
   "metadata": {
    "colab": {},
    "colab_type": "code",
    "id": "IarDHEPrAwm_"
   },
   "outputs": [],
   "source": [
    "# Recommendation functions\n",
    "\n",
    "N = len(dictionary)\n",
    "\n",
    "\n",
    "def to_sparse(matrix):\n",
    "    return csr_matrix([gensim.matutils.sparse2full(row, length=N) for row in matrix])\n",
    "\n",
    "\n",
    "def make_recommendations(model, metric, neighbors):\n",
    "    M = len(corpus)\n",
    "\n",
    "    X = to_sparse(corpus_df[model].tolist())\n",
    "    document_index = NearestNeighbors(n_neighbors=(\n",
    "        neighbors + 1), algorithm='brute', metric=metric).fit(X)\n",
    "    return document_index\n",
    "\n",
    "\n",
    "def print_recommendations(indexes, model):\n",
    "    for n, (ix, paper) in enumerate(samples.iterrows()):\n",
    "        dists, neighbors = indexes.kneighbors(\n",
    "            [gensim.matutils.sparse2full(paper[model], length=N)])\n",
    "        print(paper['title'])\n",
    "        print('')\n",
    "        print('Documentos cercanos: ')\n",
    "        i = 1\n",
    "        for neighbour in neighbors[0]:\n",
    "            if ix != neighbour:\n",
    "                line = str(i) + \". \" + corpus_df.iloc[neighbour]['title']\n",
    "                print(line)\n",
    "                i += 1\n",
    "        print('\\n')"
   ]
  },
  {
   "cell_type": "markdown",
   "metadata": {
    "colab_type": "text",
    "id": "dPe8hn3ZTqYO"
   },
   "source": [
    "A continuación deberá utilizar las funciones implementadas anteriormente para generar nuevas recomendaciones variando los parámetros del modelo. Agregue nuevas celdas para cada implementación y/o pregunta.\n"
   ]
  },
  {
   "cell_type": "markdown",
   "metadata": {
    "colab_type": "text",
    "id": "EXwYjORwTr17"
   },
   "source": [
    "** Pregunta:** Ejecute el modelo utilizando como representación tf-idf y una métrica de distancia euclideana. Modifique el parámetro nearest_neighbors a [5, 10, 20]. ¿qué efecto tiene el modelo en las recomendaciones observadas?\n",
    "\n",
    "**Respuesta:**"
   ]
  },
  {
   "cell_type": "markdown",
   "metadata": {
    "colab_type": "text",
    "id": "CRNEpJy7T6OQ"
   },
   "source": [
    "**Pregunta:** Eligiendo un valor fijo para *nearest neighbors* y utilizando representación tf-idf, ejecute el modelo con métrica de distancia *cosine*.¿Qué efecto tiene la métrica de distancia en las recomendaciones observadas?\n",
    "\n",
    "**Respuesta:**\n"
   ]
  },
  {
   "cell_type": "code",
   "execution_count": null,
   "metadata": {
    "colab": {},
    "colab_type": "code",
    "id": "QfHLV4NrA0-U"
   },
   "outputs": [],
   "source": [
    "# Recommendation example\n",
    "\n",
    "doc_idx = make_recommendations('tf_idf', 'euclidean', 5)\n",
    "print_recommendations(doc_idx, 'tf_idf')"
   ]
  }
 ],
 "metadata": {
  "colab": {
   "collapsed_sections": [],
   "name": "Práctico pyreclab 3",
   "provenance": [],
   "version": "0.3.2"
  },
  "kernelspec": {
   "display_name": "Python 3",
   "language": "python",
   "name": "python3"
  },
  "language_info": {
   "codemirror_mode": {
    "name": "ipython",
    "version": 3
   },
   "file_extension": ".py",
   "mimetype": "text/x-python",
   "name": "python",
   "nbconvert_exporter": "python",
   "pygments_lexer": "ipython3",
   "version": "3.6.5"
  },
  "varInspector": {
   "cols": {
    "lenName": 16,
    "lenType": 16,
    "lenVar": 40
   },
   "kernels_config": {
    "python": {
     "delete_cmd_postfix": "",
     "delete_cmd_prefix": "del ",
     "library": "var_list.py",
     "varRefreshCmd": "print(var_dic_list())"
    },
    "r": {
     "delete_cmd_postfix": ") ",
     "delete_cmd_prefix": "rm(",
     "library": "var_list.r",
     "varRefreshCmd": "cat(var_dic_list()) "
    }
   },
   "types_to_exclude": [
    "module",
    "function",
    "builtin_function_or_method",
    "instance",
    "_Feature"
   ],
   "window_display": false
  }
 },
 "nbformat": 4,
 "nbformat_minor": 1
}
