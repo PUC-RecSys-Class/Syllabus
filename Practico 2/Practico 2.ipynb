{
  "nbformat": 4,
  "nbformat_minor": 0,
  "metadata": {
    "colab": {
      "name": "Práctico pyreclab 2.ipynb",
      "version": "0.3.2",
      "provenance": [],
      "collapsed_sections": []
    },
    "kernelspec": {
      "name": "python3",
      "display_name": "Python 3"
    }
  },
  "cells": [
    {
      "metadata": {
        "id": "NC-ceGb8LRLT",
        "colab_type": "text"
      },
      "cell_type": "markdown",
      "source": [
        "# Ayudantía 2 - Sistemas Recomendadores: Pyreclab"
      ]
    },
    {
      "metadata": {
        "id": "mACJbcW8T35p",
        "colab_type": "text"
      },
      "cell_type": "markdown",
      "source": [
        "En este práctico, volveremos a utilizar la biblioteca de Python [pyreclab](https://github.com/gasevi/pyreclab), desarrollado por los Laboratorios IALab y SocVis de la Pontificia Universidad Católica de Chile, para aprender sobre algoritmos más avanzados de recomendación:\n",
        "\n",
        "* Singular Value Decomposition (SVD)\n",
        "\n",
        "**Autor**: Antonio Ossa, Manuel Cartagena\n",
        "\n",
        "**Basado en el material original de**: Denis Parra, Gabriel Sepúlveda\n"
      ]
    },
    {
      "metadata": {
        "id": "IFpEoacrMwQx",
        "colab_type": "text"
      },
      "cell_type": "markdown",
      "source": [
        "## Setup"
      ]
    },
    {
      "metadata": {
        "id": "sZlpkFTsMwQ3",
        "colab_type": "text"
      },
      "cell_type": "markdown",
      "source": [
        "**Paso 1:** Descargue los siguientes tres archivos, siguiendo los links, a su computador local.\n",
        "\n",
        "* `u2.base`: https://drive.google.com/open?id=1bGweNw7NbOHoJz11v6ld7ymLR8MLvBsA\n",
        "* `u2.test`: https://drive.google.com/open?id=1f_HwJWC_1HFzgAjKAWKwkuxgjkhkXrVg\n",
        "* `u.item`: https://drive.google.com/open?id=10YLhxkO2-M_flQtyo9OYV4nT9IvSESuz"
      ]
    },
    {
      "metadata": {
        "id": "5-4avIZEMwQ6",
        "colab_type": "code",
        "colab": {}
      },
      "cell_type": "code",
      "source": [
        "# Ejecute esta celda. Deberá subir los archivos u2.base, u2.test y u.item\n",
        "from google.colab import files\n",
        "uploaded = files.upload()"
      ],
      "execution_count": 0,
      "outputs": []
    },
    {
      "metadata": {
        "id": "TJon9T5ZMwRG",
        "colab_type": "text"
      },
      "cell_type": "markdown",
      "source": [
        "**Paso 2**: Instalamos [`pyreclab`](https://github.com/gasevi/pyreclab) y [`seaborn`](https://seaborn.pydata.org/index.html) utilizando `pip`."
      ]
    },
    {
      "metadata": {
        "id": "rtscg3KuMwRL",
        "colab_type": "code",
        "colab": {}
      },
      "cell_type": "code",
      "source": [
        "!pip install pandas --upgrade\n",
        "!pip install pyreclab\n",
        "!pip install seaborn --upgrade"
      ],
      "execution_count": 0,
      "outputs": []
    },
    {
      "metadata": {
        "id": "3Ii2pB-LO0Xy",
        "colab_type": "code",
        "colab": {}
      },
      "cell_type": "code",
      "source": [
        "import pandas as pd\n",
        "import pyreclab\n",
        "import seaborn as sns\n",
        "\n",
        "\n",
        "sns.set(style=\"whitegrid\")"
      ],
      "execution_count": 0,
      "outputs": []
    },
    {
      "metadata": {
        "id": "YZRtWriRMwRX",
        "colab_type": "text"
      },
      "cell_type": "markdown",
      "source": [
        "## Antes de recomendar"
      ]
    },
    {
      "metadata": {
        "id": "Bb_uBopzMwRY",
        "colab_type": "text"
      },
      "cell_type": "markdown",
      "source": [
        "**Paso 3**: Los archivos `u2.base` y `u2.test` tienen tuplas (usuario, item, rating, timestamp), que es la información de preferencias de usuarios sobre películas en una muestra del dataset [MovieLens](https://grouplens.org/datasets/movielens/), distinta a la que trabajamos en el práctico anterior. Revisemos cómo es uno de estos archivos y luego haremos gráficos que nos permitan sacar conclusiones a partir del mismo."
      ]
    },
    {
      "metadata": {
        "id": "zT11_REYOyFO",
        "colab_type": "code",
        "colab": {}
      },
      "cell_type": "code",
      "source": [
        "# Primero creamos el datadrame con los datos\n",
        "df_train = pd.read_csv('u2.base',\n",
        "                         sep='\\t',\n",
        "                         names = ['userid', 'itemid', 'rating', 'timestamp'],\n",
        "                         header=None)\n",
        "df_train.head()"
      ],
      "execution_count": 0,
      "outputs": []
    },
    {
      "metadata": {
        "id": "PybXBQ_RjrZ0",
        "colab_type": "code",
        "colab": {}
      },
      "cell_type": "code",
      "source": [
        "# Ahora queremos realizar una observación rápida de los datos,\n",
        "# verificando que no falten (describe())\n",
        "\n"
      ],
      "execution_count": 0,
      "outputs": []
    },
    {
      "metadata": {
        "id": "BKOrcfaiEdqM",
        "colab_type": "text"
      },
      "cell_type": "markdown",
      "source": [
        "Por otra parte, para obtener información adicional de cada película tal como **título**, **fecha de lanzamiento**, **género**, etc., cargaremos el archivo de items descargado (`u.item`) para poder mapear cada identificador de ítem al conjunto de datos que lo describe. Revisemos el contenido de este archivo"
      ]
    },
    {
      "metadata": {
        "id": "JGxmaexNPv3p",
        "colab_type": "code",
        "colab": {}
      },
      "cell_type": "code",
      "source": [
        "columns = ['movieid', 'title', 'release_date', 'video_release_date', \\\n",
        "           'IMDb_URL', 'unknown', 'Action', 'Adventure', 'Animation', \\\n",
        "           'Children', 'Comedy', 'Crime', 'Documentary', 'Drama', 'Fantasy', \\\n",
        "           'Film-Noir', 'Horror', 'Musical', 'Mystery', 'Romance', 'Sci-Fi', \\\n",
        "           'Thriller', 'War', 'Western']"
      ],
      "execution_count": 0,
      "outputs": []
    },
    {
      "metadata": {
        "id": "ThhWLfrwPA_5",
        "colab_type": "code",
        "colab": {}
      },
      "cell_type": "code",
      "source": [
        "# Cargamos el dataset con los items\n",
        "df_items = pd.read_csv('u.item',\n",
        "                        sep='|',\n",
        "                        index_col = 0,\n",
        "                        names = columns,\n",
        "                        header=None, \n",
        "                        encoding='latin-1')\n",
        "df_items.head()"
      ],
      "execution_count": 0,
      "outputs": []
    },
    {
      "metadata": {
        "id": "KFyf6y02P1S0",
        "colab_type": "code",
        "colab": {}
      },
      "cell_type": "code",
      "source": [
        "# Realizamos una inspección sobre estos datos (info())\n",
        "\n"
      ],
      "execution_count": 0,
      "outputs": []
    },
    {
      "metadata": {
        "id": "KXGzs31dQFXl",
        "colab_type": "code",
        "colab": {}
      },
      "cell_type": "code",
      "source": [
        "# Ejemplo de cómo visualizar titulos de peliculas en base a sus IDs\n",
        "pelis = [5,4,1]\n",
        "df_items.loc[pelis]['title']"
      ],
      "execution_count": 0,
      "outputs": []
    },
    {
      "metadata": {
        "id": "_tjnQ5koSAup",
        "colab_type": "text"
      },
      "cell_type": "markdown",
      "source": [
        "**Paso 4:** Generemos algunos gráficos en relación a las películas."
      ]
    },
    {
      "metadata": {
        "id": "gUMvNDOwfWKI",
        "colab_type": "text"
      },
      "cell_type": "markdown",
      "source": [
        "Primero, se espera que secriba el código, utilizando `seaborn`, para generar el siguiente gráfico:\n",
        "\n",
        "![Gráfico a realizar](https://fotos.subefotos.com/523536433e612d791904461cfc08a9e7o.png)\n",
        "\n"
      ]
    },
    {
      "metadata": {
        "id": "VI_GVUCs30si",
        "colab_type": "code",
        "colab": {}
      },
      "cell_type": "code",
      "source": [
        ""
      ],
      "execution_count": 0,
      "outputs": []
    },
    {
      "metadata": {
        "id": "MZ-y5iRGfu6G",
        "colab_type": "text"
      },
      "cell_type": "markdown",
      "source": [
        "**Bonus:** Realizar un gráfico donde se pueda ver la cantidad de películas lanzadas cada mes de cada año. Este es de formato libre, pero debe reflejar la información presente en el dataset. En el gráfico podrá notar que algunos meses cuentan con más lanzamientos que otros, ¿a qué podría deberse esto?"
      ]
    },
    {
      "metadata": {
        "id": "yOdE9roe6NhA",
        "colab_type": "code",
        "colab": {}
      },
      "cell_type": "code",
      "source": [
        ""
      ],
      "execution_count": 0,
      "outputs": []
    },
    {
      "metadata": {
        "id": "_-C6oFzvgOJM",
        "colab_type": "text"
      },
      "cell_type": "markdown",
      "source": [
        "Antes de trabajar con SVD, responda las siguientes preguntas."
      ]
    },
    {
      "metadata": {
        "id": "uKAqmo5IdQFI",
        "colab_type": "text"
      },
      "cell_type": "markdown",
      "source": [
        "**Pregunta:** Explique cómo funciona SVD (como modelo, no piense en la implementación), y cómo funciona el método `train()` en  `pyreclab`\n",
        "\n",
        "\n",
        "\n"
      ]
    },
    {
      "metadata": {
        "id": "VvDxjWvUdcv8",
        "colab_type": "text"
      },
      "cell_type": "markdown",
      "source": [
        "**Respuesta:** COMPLETAR"
      ]
    },
    {
      "metadata": {
        "id": "cKYbD4T-OCtj",
        "colab_type": "text"
      },
      "cell_type": "markdown",
      "source": [
        "## Generar recomendaciones"
      ]
    },
    {
      "metadata": {
        "id": "jxjJyiSnMwRe",
        "colab_type": "text"
      },
      "cell_type": "markdown",
      "source": [
        "**Paso 5**: Tome un usuario, cualquiera, del dataset y reporte parte de sus gustos explícitamente (es decir, nombre de las películas, género, etc., no id). Para este mismo usuario, revise explícitamente las recomendaciones al llegar a la parametrización que reporta las mejores métricas."
      ]
    },
    {
      "metadata": {
        "id": "BZvaluMLg88m",
        "colab_type": "text"
      },
      "cell_type": "markdown",
      "source": [
        "**Paso 6:** Genere un gráfico explorando todos los parámetros que ofrece el modelo `SVD`, donde se grafiquen los valores probados para cada parámetro y el RMSE obtenido para cada uno. Debe probar una cantidad razonable de valores buscando la mejor parametrización y entregar el notebook con dicha parametrización.\n",
        "\n"
      ]
    }
  ]
}