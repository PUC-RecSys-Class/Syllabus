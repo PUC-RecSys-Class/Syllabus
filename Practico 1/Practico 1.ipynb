{
  "nbformat": 4,
  "nbformat_minor": 0,
  "metadata": {
    "colab": {
      "name": "pyreclab_colab.ipynb",
      "version": "0.3.2",
      "provenance": [],
      "collapsed_sections": []
    },
    "kernelspec": {
      "name": "python3",
      "display_name": "Python 3"
    },
    "accelerator": "GPU"
  },
  "cells": [
    {
      "metadata": {
        "id": "NC-ceGb8LRLT",
        "colab_type": "text"
      },
      "cell_type": "markdown",
      "source": [
        "# Ayudantía 1 - Sistemas Recomendadores: Pyreclab"
      ]
    },
    {
      "metadata": {
        "id": "mACJbcW8T35p",
        "colab_type": "text"
      },
      "cell_type": "markdown",
      "source": [
        "En este práctico vamos a utilizar la biblioteca de Python [pyreclab](https://github.com/gasevi/pyreclab), desarrollado por los Laboratorios IALab y SocVis de la Pontificia Universidad Católica de Chile, para aprender sobre algoritmos básicos y tradicionales de sistemas de recomendacion:\n",
        "\n",
        "\n",
        "*   Most Popular\n",
        "*   Item Average Rating\n",
        "*   User KNN (Filtrado colaborativo basado en usuarios)\n",
        "\n",
        "\n",
        "**Autores**: Denis Parra, Gabriel Sepúlveda\n",
        "\n",
        "**Adaptado para Sistemas Recomendadores (IIC3633) por**: Manuel Cartagena, Antonio Ossa\n"
      ]
    },
    {
      "metadata": {
        "id": "9qKTQ2V5VKSX",
        "colab_type": "text"
      },
      "cell_type": "markdown",
      "source": [
        "## Setup\n",
        "\n",
        "Vaya ejecutando cada celda presionando el botón de Play o presionando Ctrl+Enter (Linux y Windows) o Command+Enter (OSX)"
      ]
    },
    {
      "metadata": {
        "id": "LJuUuUB-LahX",
        "colab_type": "text"
      },
      "cell_type": "markdown",
      "source": [
        "**Paso 1:** Descargue los siguientes tres archivos, siguiendo los links, a su computador local (`u1.base`, `u1.test` y `u.item`, respectivamente)\n",
        "\n",
        "https://drive.google.com/file/d/1Anro2DyEgN0sUHXFyxVe2qoSya6hzQSp/view?usp=sharing\n",
        "\n",
        "https://drive.google.com/file/d/1Awy3QKCdkSpNeRXATqRBUMi56M47Ia0n/view?usp=sharing\n",
        "\n",
        "https://drive.google.com/file/d/1B7QhEodQ13QlOHOTp9zaa52exlfgAOl3/view?usp=sharing\n"
      ]
    },
    {
      "metadata": {
        "id": "SEF-5tx457eB",
        "colab_type": "code",
        "colab": {},
        "cellView": "both"
      },
      "cell_type": "code",
      "source": [
        "# Ejecute esta celda. Deberá subir los archivos u1.base, u1.test y u.item\n",
        "from google.colab import files\n",
        "uploaded = files.upload()"
      ],
      "execution_count": 0,
      "outputs": []
    },
    {
      "metadata": {
        "id": "liJ3L2kl4g1o",
        "colab_type": "text"
      },
      "cell_type": "markdown",
      "source": [
        "Los archivos u1.base y u1.test tienen tuplas {usuario, item, rating, timestamp}, que es la información de preferencias de usuarios sobre películas en una muestra del dataset [MovieLens](https://grouplens.org/datasets/movielens/).\n",
        "\n",
        "Revisemos cómo es uno de estos archivos:"
      ]
    },
    {
      "metadata": {
        "id": "10N9GHcw5AeV",
        "colab_type": "code",
        "colab": {}
      },
      "cell_type": "code",
      "source": [
        "import pandas as pd\n",
        "\n",
        "train_file = pd.read_csv('u1.base',\n",
        "                         sep='\\t',\n",
        "                         names = ['userid', 'itemid', 'rating', 'timestamp'],\n",
        "                         header=None)\n",
        "train_file.head()"
      ],
      "execution_count": 0,
      "outputs": []
    },
    {
      "metadata": {
        "id": "BKOrcfaiEdqM",
        "colab_type": "text"
      },
      "cell_type": "markdown",
      "source": [
        "Por otra parte, para obtener información adicional de cada película tal como *título*, *fecha de lanzamient*o, *género*, etc., cargaremos el archivo de items descargado ( *u.item* ) para poder mapear cada identificador de ítem al conjunto de datos que lo describe.\n",
        "Revisemos el contenido de este archivo"
      ]
    },
    {
      "metadata": {
        "id": "bVtvxJnr_yeK",
        "colab_type": "code",
        "colab": {}
      },
      "cell_type": "code",
      "source": [
        "info_cols = [ 'movieid', 'title', 'release_date', 'video_release_date', 'IMDb_URL', \\\n",
        "              'unknown', 'Action', 'Adventure', 'Animation', 'Children', 'Comedy', \\\n",
        "              'Crime', 'Documentary', 'Drama', 'Fantasy', 'Film-Noir', 'Horror', \\\n",
        "              'Musical', 'Mystery', 'Romance', 'Sci-Fi', 'Thriller', 'War', 'Western' ]\n",
        "\n",
        "info_file = pd.read_csv('u.item', sep='|', index_col = 0, names = info_cols, header=None, encoding='latin-1')\n",
        "\n",
        "info_file.head()"
      ],
      "execution_count": 0,
      "outputs": []
    },
    {
      "metadata": {
        "id": "3JsjHzBFGqQI",
        "colab_type": "code",
        "colab": {}
      },
      "cell_type": "code",
      "source": [
        "# Ejemplo de cómo visualizar titulos de peliculas en base a sus IDs\n",
        "pelis = [5,4,1]\n",
        "info_file.loc[pelis]['title']"
      ],
      "execution_count": 0,
      "outputs": []
    },
    {
      "metadata": {
        "id": "vypumB0LLl6B",
        "colab_type": "text"
      },
      "cell_type": "markdown",
      "source": [
        "**Paso 2:** Instalar `pyreclab`\n",
        "\n"
      ]
    },
    {
      "metadata": {
        "id": "nbtrMHvG6uIt",
        "colab_type": "code",
        "colab": {}
      },
      "cell_type": "code",
      "source": [
        "!pip install pyreclab"
      ],
      "execution_count": 0,
      "outputs": []
    },
    {
      "metadata": {
        "id": "8xjAMaNz-4dO",
        "colab_type": "text"
      },
      "cell_type": "markdown",
      "source": [
        "**Paso 3:** Importar `pyreclab` y `numpy`"
      ]
    },
    {
      "metadata": {
        "id": "nv7g1e_i6wBY",
        "colab_type": "code",
        "colab": {}
      },
      "cell_type": "code",
      "source": [
        "import pyreclab\n",
        "import numpy as np"
      ],
      "execution_count": 0,
      "outputs": []
    },
    {
      "metadata": {
        "id": "P7nyS9R9d9Kh",
        "colab_type": "text"
      },
      "cell_type": "markdown",
      "source": [
        "## Uso de algoritmos"
      ]
    },
    {
      "metadata": {
        "id": "GE4tE6_aeEiw",
        "colab_type": "text"
      },
      "cell_type": "markdown",
      "source": [
        "### *Most Popular*"
      ]
    },
    {
      "metadata": {
        "id": "ayKBs3MSS1JZ",
        "colab_type": "code",
        "colab": {}
      },
      "cell_type": "code",
      "source": [
        "# Declarar el objeto recomendador de la clase MostPopular\n",
        "mymp = pyreclab.MostPopular(dataset='u1.base',\n",
        "                            dlmchar= b'\\t',\n",
        "                            header=False,\n",
        "                            usercol=0,\n",
        "                            itemcol=1,\n",
        "                            ratingcol=2)\n"
      ],
      "execution_count": 0,
      "outputs": []
    },
    {
      "metadata": {
        "id": "yt-4Z9XlTH8s",
        "colab_type": "code",
        "colab": {}
      },
      "cell_type": "code",
      "source": [
        "# Entrenamos el modelo con los datos existentes\n",
        "mymp.train()"
      ],
      "execution_count": 0,
      "outputs": []
    },
    {
      "metadata": {
        "id": "Irtfxu6QaGb_",
        "colab_type": "text"
      },
      "cell_type": "markdown",
      "source": [
        "El método ***Most Popular*** calcula el número de veces que fue consumido cada ítem, así puede recomendar los más populares. Con este método no podemos predecir *ratings*, pero sí podemos recomendar. La recomendación no es personalizada, es la misma para todos los usuarios."
      ]
    },
    {
      "metadata": {
        "id": "hm1kj3CiTVq5",
        "colab_type": "code",
        "colab": {}
      },
      "cell_type": "code",
      "source": [
        "reclist = mymp.recommend(\"457\")\n",
        "print(reclist)"
      ],
      "execution_count": 0,
      "outputs": []
    },
    {
      "metadata": {
        "id": "g06HSOn6KVoj",
        "colab_type": "code",
        "colab": {}
      },
      "cell_type": "code",
      "source": [
        "# Con esto podemos ver las recomendaciones con titulo de película\n",
        "pelis = np.array(reclist).astype(int)\n",
        "info_file.loc[pelis]['title']"
      ],
      "execution_count": 0,
      "outputs": []
    },
    {
      "metadata": {
        "id": "IUCFEFrIeIvb",
        "colab_type": "text"
      },
      "cell_type": "markdown",
      "source": [
        "### *Item Average*"
      ]
    },
    {
      "metadata": {
        "id": "DbSxcwx-WVVQ",
        "colab_type": "code",
        "colab": {}
      },
      "cell_type": "code",
      "source": [
        "# Declarar el objeto recomendador ItemAvg\n",
        "myitemavg = pyreclab.ItemAvg(dataset='u1.base',\n",
        "                             dlmchar=b'\\t',\n",
        "                             header=False,\n",
        "                             usercol=0,\n",
        "                             itemcol=1,\n",
        "                             ratingcol=2)\n"
      ],
      "execution_count": 0,
      "outputs": []
    },
    {
      "metadata": {
        "id": "JxaWtdjgWVhu",
        "colab_type": "code",
        "colab": {}
      },
      "cell_type": "code",
      "source": [
        "# Entrenamos el modelo con los datos existentes\n",
        "myitemavg.train()"
      ],
      "execution_count": 0,
      "outputs": []
    },
    {
      "metadata": {
        "id": "bJQWZofCeh4F",
        "colab_type": "text"
      },
      "cell_type": "markdown",
      "source": [
        "#### Preguntas"
      ]
    },
    {
      "metadata": {
        "id": "tMiP_Z2VYZB9",
        "colab_type": "text"
      },
      "cell_type": "markdown",
      "source": [
        "**¿Qué cree usted que hace la función `train()` del método de recomendación  `ItemAvg()`?**"
      ]
    },
    {
      "metadata": {
        "id": "HoRM5ILcYS8l",
        "colab_type": "text"
      },
      "cell_type": "markdown",
      "source": [
        "**Respuesta:** COMPLETAR"
      ]
    },
    {
      "metadata": {
        "id": "h9Z9cKZJTbVl",
        "colab_type": "code",
        "colab": {}
      },
      "cell_type": "code",
      "source": [
        "# Predecir rating que el usuario ID 457 le dará al ítem ID 37\n",
        "myitemavg.predict('457', '37')"
      ],
      "execution_count": 0,
      "outputs": []
    },
    {
      "metadata": {
        "id": "FAmYXWtWXg3D",
        "colab_type": "text"
      },
      "cell_type": "markdown",
      "source": [
        "**Ejecute el mismo comando anterior para predecir esta vez el rating que el usuario 498 dará al item 37 ¿Qué rating da? ¿Cómo se explica este resultado?**"
      ]
    },
    {
      "metadata": {
        "id": "LZuWe5vlQNdR",
        "colab_type": "code",
        "colab": {}
      },
      "cell_type": "code",
      "source": [
        "# COMPLETAR"
      ],
      "execution_count": 0,
      "outputs": []
    },
    {
      "metadata": {
        "id": "wJvLQ2HoYrCX",
        "colab_type": "text"
      },
      "cell_type": "markdown",
      "source": [
        "**Respuesta:** COMPLETAR"
      ]
    },
    {
      "metadata": {
        "id": "Fr40bOYsXtnP",
        "colab_type": "code",
        "colab": {}
      },
      "cell_type": "code",
      "source": [
        "# Generar lista de 5 recomendaciones para el usuario con ID 457\n",
        "\n",
        "reclist_iavg = myitemavg.recommend('457', 5)\n",
        "print(reclist_iavg)"
      ],
      "execution_count": 0,
      "outputs": []
    },
    {
      "metadata": {
        "id": "_ZdUT93BMYgq",
        "colab_type": "text"
      },
      "cell_type": "markdown",
      "source": [
        "**Genere una lista de 10 recomendaciones para el usuario ID 478 ¿Cómo se explican las recomendaciones del método para este usuario comparadas con las del usuario 457?**"
      ]
    },
    {
      "metadata": {
        "id": "6_9NNOGoaAzi",
        "colab_type": "code",
        "colab": {}
      },
      "cell_type": "code",
      "source": [
        "# COMPLETAR"
      ],
      "execution_count": 0,
      "outputs": []
    },
    {
      "metadata": {
        "id": "4ndrsHNOYujg",
        "colab_type": "text"
      },
      "cell_type": "markdown",
      "source": [
        "**Respuesta:** COMPLETAR"
      ]
    },
    {
      "metadata": {
        "id": "4WV4L4lmOW5-",
        "colab_type": "text"
      },
      "cell_type": "markdown",
      "source": [
        "**¿Cuáles son los títulos de las películas recomendadas por el método *ItemAvg* para el usuario 457 ? ¿Qué le parecen estas recomendaciones comparadas con el método *MostPopular*?**"
      ]
    },
    {
      "metadata": {
        "id": "S9TLKRK-O8FH",
        "colab_type": "code",
        "colab": {}
      },
      "cell_type": "code",
      "source": [
        "# COMPLETAR"
      ],
      "execution_count": 0,
      "outputs": []
    },
    {
      "metadata": {
        "id": "VwS5lyPnesYH",
        "colab_type": "text"
      },
      "cell_type": "markdown",
      "source": [
        "**Respuesta:** COMPLETAR"
      ]
    },
    {
      "metadata": {
        "id": "4swJapWnuCDN",
        "colab_type": "text"
      },
      "cell_type": "markdown",
      "source": [
        "### Wilson score"
      ]
    },
    {
      "metadata": {
        "id": "__CJGKbqHoQc",
        "colab_type": "text"
      },
      "cell_type": "markdown",
      "source": [
        "Otra forma de recomendar cuando se tienen votos positivos y negativos es usando el lower bound del wilson-score como se muestra en https://www.evanmiller.org/how-not-to-sort-by-average-rating.html\n",
        "\n",
        "Como el dataset de movielens contiene ratings, una forma de contabilizar estos como votos es asignando los ratings superiores a un valor definido como votos positivos y los demás como negativos."
      ]
    },
    {
      "metadata": {
        "id": "_XCaYeUhuFDl",
        "colab_type": "code",
        "colab": {}
      },
      "cell_type": "code",
      "source": [
        "from math import sqrt\n",
        "import scipy.stats as st\n",
        "\n",
        "def ci_lower_bound(pos, neg, confidence=.95):\n",
        "    n = pos + neg\n",
        "\n",
        "    if n == 0:\n",
        "        return 0\n",
        "\n",
        "    #z = 1.0 #1.44 = 85%, 1.96 = 95%\n",
        "    z = st.norm.ppf(1-(1-confidence)/2)\n",
        "    phat = float(pos) / n\n",
        "    \n",
        "    return (phat + z*z/(2*n) - z * sqrt((phat*(1-phat)+z*z/(4*n))/n))/(1+z*z/n)"
      ],
      "execution_count": 0,
      "outputs": []
    },
    {
      "metadata": {
        "id": "bKpqL-vdvZH2",
        "colab_type": "code",
        "colab": {}
      },
      "cell_type": "code",
      "source": [
        "item_count = {}\n",
        "for tup in train_file.groupby(['itemid', 'rating']).agg(['count']).itertuples():\n",
        "  if tup[0][0] not in item_count:\n",
        "    item_count[tup[0][0]] = {}\n",
        "    item_count[tup[0][0]]['pos'] = 0\n",
        "    item_count[tup[0][0]]['neg'] = 0\n",
        "\n",
        "  if tup[0][1] <= 3:\n",
        "    item_count[tup[0][0]]['neg'] += tup[1]\n",
        "  else:\n",
        "    item_count[tup[0][0]]['pos'] += tup[1]"
      ],
      "execution_count": 0,
      "outputs": []
    },
    {
      "metadata": {
        "id": "oAXoSjDXZJ5z",
        "colab_type": "text"
      },
      "cell_type": "markdown",
      "source": [
        "A partir de la funcion ci_lower_bound y el diccionario item_count genere una lista de recomendación usando el wilson score."
      ]
    },
    {
      "metadata": {
        "id": "FXKvDvGnZnfw",
        "colab_type": "code",
        "colab": {}
      },
      "cell_type": "code",
      "source": [
        ""
      ],
      "execution_count": 0,
      "outputs": []
    },
    {
      "metadata": {
        "id": "q1_O2SidXuDh",
        "colab_type": "text"
      },
      "cell_type": "markdown",
      "source": [
        "PREGUNTAS:\n",
        "1. Cómo considera este ranking respecto a Most Popular y a Rating Promedio? explique.\n",
        "\n",
        "2. Cuál sería el efecto en el ranking de cambiar el umbral de rating positivo de  $r \\geq 4$ a $r \\geq 3$\n",
        "\n",
        "3. Cuál es el efecto de cambiar el valor (1-$\\alpha$) de 0.95 a 0.99 en la lista rankeada ?"
      ]
    },
    {
      "metadata": {
        "id": "25-mzEfqe301",
        "colab_type": "text"
      },
      "cell_type": "markdown",
      "source": [
        "### *UserKNN*"
      ]
    },
    {
      "metadata": {
        "id": "ONuL2UkwaqPH",
        "colab_type": "code",
        "colab": {}
      },
      "cell_type": "code",
      "source": [
        "# Declarar el objeto recomendador UserKnn\n",
        "myUserKnn = pyreclab.UserKnn(dataset='u1.base',\n",
        "                             dlmchar=b'\\t',\n",
        "                             header=False,\n",
        "                             usercol=0,\n",
        "                             itemcol=1,\n",
        "                             ratingcol=2)\n"
      ],
      "execution_count": 0,
      "outputs": []
    },
    {
      "metadata": {
        "id": "uhjC9eRYaqPK",
        "colab_type": "code",
        "colab": {}
      },
      "cell_type": "code",
      "source": [
        "# Entrenamos el modelo con los datos existentes\n",
        "# Recuerde que se puede probar el parámetro k de cantidad de vecinos\n",
        "# así como la métrica de similaridad (pearson, cosine)\n",
        "myUserKnn.train(7, 'pearson')"
      ],
      "execution_count": 0,
      "outputs": []
    },
    {
      "metadata": {
        "id": "1yxaz2otfABG",
        "colab_type": "text"
      },
      "cell_type": "markdown",
      "source": [
        "#### Preguntas"
      ]
    },
    {
      "metadata": {
        "id": "dsByYnKBdWmP",
        "colab_type": "text"
      },
      "cell_type": "markdown",
      "source": [
        "**Según el modelo de recomendación UserKnn, qué rating le dará el usuario 457 al item 37 ?**"
      ]
    },
    {
      "metadata": {
        "id": "feSl8bmBaqPO",
        "colab_type": "code",
        "colab": {}
      },
      "cell_type": "code",
      "source": [
        "# COMPLETAR"
      ],
      "execution_count": 0,
      "outputs": []
    },
    {
      "metadata": {
        "id": "I-iqQvAdTTCP",
        "colab_type": "text"
      },
      "cell_type": "markdown",
      "source": [
        "**Respuesta:** COMPLETAR"
      ]
    },
    {
      "metadata": {
        "id": "U9apdVjVda1Q",
        "colab_type": "text"
      },
      "cell_type": "markdown",
      "source": [
        "**Escriba los nombres de las películas recomendadas por el método knn**"
      ]
    },
    {
      "metadata": {
        "id": "otr7zq1jaqPR",
        "colab_type": "code",
        "colab": {}
      },
      "cell_type": "code",
      "source": [
        "# COMPLETAR"
      ],
      "execution_count": 0,
      "outputs": []
    },
    {
      "metadata": {
        "id": "Bi7_nCE7TmOZ",
        "colab_type": "text"
      },
      "cell_type": "markdown",
      "source": [
        "**Respuesta:** COMPLETAR"
      ]
    },
    {
      "metadata": {
        "id": "Rz-__gkJfr-W",
        "colab_type": "text"
      },
      "cell_type": "markdown",
      "source": [
        "Analizar de tal forma de minimizar el número de vecinos viendo el error (RMSE)"
      ]
    },
    {
      "metadata": {
        "id": "2pJZT9TfaLxC",
        "colab_type": "text"
      },
      "cell_type": "markdown",
      "source": [
        "Un ejemplo de como obtener las listas de recomendación junto con sus métricas para el dataset de test:"
      ]
    },
    {
      "metadata": {
        "id": "jE2w47T5aI78",
        "colab_type": "code",
        "colab": {}
      },
      "cell_type": "code",
      "source": [
        "predlist, mae, rmse = myUserKnn.test(input_file='u1.test',\n",
        "                                     dlmchar=b'\\t',\n",
        "                                     header=False,\n",
        "                                     usercol=0,\n",
        "                                     itemcol=1,\n",
        "                                     ratingcol=2,\n",
        "                                     output_file='predictions.csv')"
      ],
      "execution_count": 0,
      "outputs": []
    },
    {
      "metadata": {
        "id": "RAopWlDdaaCx",
        "colab_type": "text"
      },
      "cell_type": "markdown",
      "source": [
        "A partir del ejemplo anterior probar para distintos valores de k y evaluar en base al error de prediccion (RMSE)"
      ]
    },
    {
      "metadata": {
        "id": "C-te1p0oaUU_",
        "colab_type": "code",
        "colab": {}
      },
      "cell_type": "code",
      "source": [
        "#COMPLETAR"
      ],
      "execution_count": 0,
      "outputs": []
    },
    {
      "metadata": {
        "id": "ZOmWY3eIiMFm",
        "colab_type": "text"
      },
      "cell_type": "markdown",
      "source": [
        "Graficar los resultados anteriores (MAE y RMSE), los que deberían verse algo así:\n",
        "\n",
        "![MAE](https://fotos.subefotos.com/819d05796c6e1da8ec11637788c677aco.png)\n",
        "\n",
        "![RMSE](https://fotos.subefotos.com/6148bcf1c0fdd7ffc0046b04f3f455b5o.png)\n",
        "\n",
        "1.   Elemento de lista\n",
        "2.   Elemento de lista\n",
        "\n"
      ]
    },
    {
      "metadata": {
        "id": "CsXhKArSfgvX",
        "colab_type": "text"
      },
      "cell_type": "markdown",
      "source": [
        "### *Slope One* (Opcional)"
      ]
    },
    {
      "metadata": {
        "id": "qKspTai4NCNb",
        "colab_type": "text"
      },
      "cell_type": "markdown",
      "source": [
        "**Replicar todo el análisis de UserKNN con el método SlopeOne\n",
        "**"
      ]
    },
    {
      "metadata": {
        "id": "yvd56CYbfd8P",
        "colab_type": "text"
      },
      "cell_type": "markdown",
      "source": [
        "### *ItemKNN* (Opcional)"
      ]
    },
    {
      "metadata": {
        "id": "BIoEuAPGM922",
        "colab_type": "text"
      },
      "cell_type": "markdown",
      "source": [
        "**Replicar todo el análisis de UserKNN con el método ItemKNN**"
      ]
    }
  ]
}